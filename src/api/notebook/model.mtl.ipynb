{
 "cells": [
  {
   "attachments": {},
   "cell_type": "markdown",
   "metadata": {},
   "source": [
    "# MTL in Detection of Emotion, Toxicity Classification"
   ]
  },
  {
   "attachments": {},
   "cell_type": "markdown",
   "metadata": {},
   "source": [
    "### 1. Importing Libraries"
   ]
  },
  {
   "cell_type": "code",
   "execution_count": 1,
   "metadata": {},
   "outputs": [
    {
     "name": "stderr",
     "output_type": "stream",
     "text": [
      "e:\\Mini Projects\\Thesis\\report-system-back\\.venv\\Lib\\site-packages\\tqdm\\auto.py:21: TqdmWarning: IProgress not found. Please update jupyter and ipywidgets. See https://ipywidgets.readthedocs.io/en/stable/user_install.html\n",
      "  from .autonotebook import tqdm as notebook_tqdm\n"
     ]
    }
   ],
   "source": [
    "from transformers import TFBertModel, BertTokenizer\n",
    "from keras.layers import Input, Bidirectional, LSTM, Dense, Concatenate\n",
    "from keras.models import Model\n",
    "from keras.preprocessing import text, sequence\n",
    "from keras.utils import pad_sequences"
   ]
  },
  {
   "attachments": {},
   "cell_type": "markdown",
   "metadata": {},
   "source": [
    "### 2. Declaring Constants"
   ]
  },
  {
   "cell_type": "code",
   "execution_count": 2,
   "metadata": {},
   "outputs": [],
   "source": [
    "# Constants\n",
    "MAX_SEQ_LEN = 50\n",
    "LSTM_UNITS = 64\n",
    "# VOCAB_SIZE = 10000\n",
    "# EMBEDDING_DIM = 128\n",
    "\n",
    "# Task-specific constants\n",
    "NUM_EMOTION_CLASSES = 7\n",
    "# NUM_SENTIMENT_CLASSES = 3\n",
    "NUM_TOXICITY_CLASSES = 7"
   ]
  },
  {
   "attachments": {},
   "cell_type": "markdown",
   "metadata": {},
   "source": [
    "### 3. Initializing Bert Model and Tokenizer, then Creating a input layers"
   ]
  },
  {
   "cell_type": "code",
   "execution_count": 3,
   "metadata": {},
   "outputs": [
    {
     "name": "stderr",
     "output_type": "stream",
     "text": [
      "Some layers from the model checkpoint at bert-base-uncased were not used when initializing TFBertModel: ['mlm___cls', 'nsp___cls']\n",
      "- This IS expected if you are initializing TFBertModel from the checkpoint of a model trained on another task or with another architecture (e.g. initializing a BertForSequenceClassification model from a BertForPreTraining model).\n",
      "- This IS NOT expected if you are initializing TFBertModel from the checkpoint of a model that you expect to be exactly identical (initializing a BertForSequenceClassification model from a BertForSequenceClassification model).\n",
      "All the layers of TFBertModel were initialized from the model checkpoint at bert-base-uncased.\n",
      "If your task is similar to the task the model of the checkpoint was trained on, you can already use TFBertModel for predictions without further training.\n"
     ]
    }
   ],
   "source": [
    "# Initialize the BERT tokenizer and model\n",
    "bert_tokenizer = BertTokenizer.from_pretrained('bert-base-uncased')\n",
    "bert_model = TFBertModel.from_pretrained('bert-base-uncased')"
   ]
  },
  {
   "cell_type": "code",
   "execution_count": 4,
   "metadata": {},
   "outputs": [],
   "source": [
    "# Input and BERT layers\n",
    "input_layer = Input(shape=(MAX_SEQ_LEN,), dtype='int32', name='input')\n",
    "# embedding_layer = Embedding(VOCAB_SIZE, EMBEDDING_DIM, input_length=MAX_SEQ_LEN)(input_layer)\n",
    "bert_output = bert_model(input_layer)"
   ]
  },
  {
   "attachments": {},
   "cell_type": "markdown",
   "metadata": {},
   "source": [
    "### 4. Creating a BiLSTM layer"
   ]
  },
  {
   "cell_type": "code",
   "execution_count": 5,
   "metadata": {},
   "outputs": [],
   "source": [
    "# Bidirectional LSTM layer\n",
    "bi_lstm_layer = Bidirectional(LSTM(LSTM_UNITS))(bert_output[0])"
   ]
  },
  {
   "attachments": {},
   "cell_type": "markdown",
   "metadata": {},
   "source": [
    "### 5. Creating Dense layers for each task "
   ]
  },
  {
   "cell_type": "code",
   "execution_count": 6,
   "metadata": {},
   "outputs": [],
   "source": [
    "# Task-specific layers\n",
    "emotion_output = Dense(NUM_EMOTION_CLASSES, activation='sigmoid', name='emotion_output')(bi_lstm_layer)\n",
    "# sentiment_output = Dense(NUM_SENTIMENT_CLASSES, activation='softmax', name='sentiment_output')(bi_lstm_layer)\n",
    "toxicity_input = Concatenate(name=\"concatination_of_blstm_emotion\")([bi_lstm_layer, emotion_output])\n",
    "toxicity_output = Dense(NUM_TOXICITY_CLASSES, activation='sigmoid', name='toxicity_output')(toxicity_input)"
   ]
  },
  {
   "attachments": {},
   "cell_type": "markdown",
   "metadata": {},
   "source": [
    "###  6. Creating a Model"
   ]
  },
  {
   "cell_type": "code",
   "execution_count": 7,
   "metadata": {},
   "outputs": [
    {
     "name": "stdout",
     "output_type": "stream",
     "text": [
      "Model: \"MTL_BERT_ET\"\n",
      "__________________________________________________________________________________________________\n",
      " Layer (type)                   Output Shape         Param #     Connected to                     \n",
      "==================================================================================================\n",
      " input (InputLayer)             [(None, 100)]        0           []                               \n",
      "                                                                                                  \n",
      " tf_bert_model (TFBertModel)    TFBaseModelOutputWi  109482240   ['input[0][0]']                  \n",
      "                                thPoolingAndCrossAt                                               \n",
      "                                tentions(last_hidde                                               \n",
      "                                n_state=(None, 100,                                               \n",
      "                                 768),                                                            \n",
      "                                 pooler_output=(Non                                               \n",
      "                                e, 768),                                                          \n",
      "                                 past_key_values=No                                               \n",
      "                                ne, hidden_states=N                                               \n",
      "                                one, attentions=Non                                               \n",
      "                                e, cross_attentions                                               \n",
      "                                =None)                                                            \n",
      "                                                                                                  \n",
      " bidirectional (Bidirectional)  (None, 128)          426496      ['tf_bert_model[0][0]']          \n",
      "                                                                                                  \n",
      " emotion_output (Dense)         (None, 7)            903         ['bidirectional[0][0]']          \n",
      "                                                                                                  \n",
      " concatination_of_blstm_emotion  (None, 135)         0           ['bidirectional[0][0]',          \n",
      "  (Concatenate)                                                   'emotion_output[0][0]']         \n",
      "                                                                                                  \n",
      " toxicity_output (Dense)        (None, 7)            952         ['concatination_of_blstm_emotion[\n",
      "                                                                 0][0]']                          \n",
      "                                                                                                  \n",
      "==================================================================================================\n",
      "Total params: 109,910,591\n",
      "Trainable params: 109,910,591\n",
      "Non-trainable params: 0\n",
      "__________________________________________________________________________________________________\n"
     ]
    }
   ],
   "source": [
    "# Define the model\n",
    "model = Model(name=\"MTL_BERT_ET\",inputs=input_layer, outputs=[emotion_output, toxicity_output])\n",
    "\n",
    "# Compile the model\n",
    "model.compile(\n",
    "    optimizer='adam',\n",
    "    loss={\n",
    "            'emotion_output': 'categorical_crossentropy',\n",
    "            #   'sentiment_output': 'categorical_crossentropy',\n",
    "            'toxicity_output': 'categorical_crossentropy'\n",
    "        },\n",
    "    metrics=['accuracy', 'Precision', 'Recall'])\n",
    "\n",
    "# Summary of the model\n",
    "model.summary()"
   ]
  },
  {
   "attachments": {},
   "cell_type": "markdown",
   "metadata": {},
   "source": [
    "## Export Model Flow[]"
   ]
  },
  {
   "cell_type": "code",
   "execution_count": 8,
   "metadata": {},
   "outputs": [
    {
     "data": {
      "image/png": "[encoded data removed]",
      "text/plain": [
       "<IPython.core.display.Image object>"
      ]
     },
     "execution_count": 8,
     "metadata": {},
     "output_type": "execute_result"
    }
   ],
   "source": [
    "# Path: src\\api\\notebook\\model.mtl.ipynb\n",
    "from keras.utils import plot_model\n",
    "plot_model(model, show_layer_activations=True,show_layer_names=True,to_file='model.png', show_shapes=True)"
   ]
  },
  {
   "attachments": {},
   "cell_type": "markdown",
   "metadata": {},
   "source": [
    "## Running in Sample Dataset"
   ]
  },
  {
   "cell_type": "code",
   "execution_count": 9,
   "metadata": {},
   "outputs": [],
   "source": [
    "import numpy as np\n",
    "import pandas as pd"
   ]
  },
  {
   "cell_type": "code",
   "execution_count": 10,
   "metadata": {},
   "outputs": [
    {
     "data": {
      "text/html": [
       "<div>\n",
       "<style scoped>\n",
       "    .dataframe tbody tr th:only-of-type {\n",
       "        vertical-align: middle;\n",
       "    }\n",
       "\n",
       "    .dataframe tbody tr th {\n",
       "        vertical-align: top;\n",
       "    }\n",
       "\n",
       "    .dataframe thead th {\n",
       "        text-align: right;\n",
       "    }\n",
       "</style>\n",
       "<table border=\"1\" class=\"dataframe\">\n",
       "  <thead>\n",
       "    <tr style=\"text-align: right;\">\n",
       "      <th></th>\n",
       "      <th>Chats</th>\n",
       "      <th>e_labels</th>\n",
       "      <th>t_labels</th>\n",
       "    </tr>\n",
       "  </thead>\n",
       "  <tbody>\n",
       "    <tr>\n",
       "      <th>0</th>\n",
       "      <td>I really enjoyed the movie last night!</td>\n",
       "      <td>positive</td>\n",
       "      <td>non-toxic</td>\n",
       "    </tr>\n",
       "    <tr>\n",
       "      <th>1</th>\n",
       "      <td>I'm not sure if I like this restaurant.</td>\n",
       "      <td>neutral</td>\n",
       "      <td>non-toxic</td>\n",
       "    </tr>\n",
       "    <tr>\n",
       "      <th>2</th>\n",
       "      <td>This is a great book.</td>\n",
       "      <td>positive</td>\n",
       "      <td>non-toxic</td>\n",
       "    </tr>\n",
       "    <tr>\n",
       "      <th>3</th>\n",
       "      <td>I can't believe how rude that person was.</td>\n",
       "      <td>negative</td>\n",
       "      <td>hate speech</td>\n",
       "    </tr>\n",
       "    <tr>\n",
       "      <th>4</th>\n",
       "      <td>This product is amazing!</td>\n",
       "      <td>positive</td>\n",
       "      <td>non-toxic</td>\n",
       "    </tr>\n",
       "    <tr>\n",
       "      <th>5</th>\n",
       "      <td>I strongly disagree with your statement.</td>\n",
       "      <td>negative</td>\n",
       "      <td>non-toxic</td>\n",
       "    </tr>\n",
       "    <tr>\n",
       "      <th>6</th>\n",
       "      <td>I feel neutral about this topic.</td>\n",
       "      <td>neutral</td>\n",
       "      <td>non-toxic</td>\n",
       "    </tr>\n",
       "    <tr>\n",
       "      <th>7</th>\n",
       "      <td>You should be ashamed of yourself!</td>\n",
       "      <td>negative</td>\n",
       "      <td>sexism</td>\n",
       "    </tr>\n",
       "    <tr>\n",
       "      <th>8</th>\n",
       "      <td>I think your idea is brilliant.</td>\n",
       "      <td>positive</td>\n",
       "      <td>non-toxic</td>\n",
       "    </tr>\n",
       "    <tr>\n",
       "      <th>9</th>\n",
       "      <td>You are the worst!</td>\n",
       "      <td>negative</td>\n",
       "      <td>sexism</td>\n",
       "    </tr>\n",
       "  </tbody>\n",
       "</table>\n",
       "</div>"
      ],
      "text/plain": [
       "                                       Chats  e_labels     t_labels\n",
       "0     I really enjoyed the movie last night!  positive    non-toxic\n",
       "1    I'm not sure if I like this restaurant.   neutral    non-toxic\n",
       "2                      This is a great book.  positive    non-toxic\n",
       "3  I can't believe how rude that person was.  negative  hate speech\n",
       "4                   This product is amazing!  positive    non-toxic\n",
       "5   I strongly disagree with your statement.  negative    non-toxic\n",
       "6           I feel neutral about this topic.   neutral    non-toxic\n",
       "7         You should be ashamed of yourself!  negative       sexism\n",
       "8            I think your idea is brilliant.  positive    non-toxic\n",
       "9                         You are the worst!  negative       sexism"
      ]
     },
     "execution_count": 10,
     "metadata": {},
     "output_type": "execute_result"
    }
   ],
   "source": [
    "\n",
    "\n",
    "# Sample chat data\n",
    "chats = [\n",
    "    \"I really enjoyed the movie last night!\",\n",
    "    \"I'm not sure if I like this restaurant.\",\n",
    "    \"This is a great book.\",\n",
    "    \"I can't believe how rude that person was.\",\n",
    "    \"This product is amazing!\",\n",
    "    \"I strongly disagree with your statement.\",\n",
    "    \"I feel neutral about this topic.\",\n",
    "    \"You should be ashamed of yourself!\",\n",
    "    \"I think your idea is brilliant.\",\n",
    "    \"You are the worst!\",\n",
    "]\n",
    "\n",
    "# Labels for emotion and toxicity\n",
    "emotion_labels = ['positive', 'neutral', 'positive', 'negative', 'positive',\n",
    "                  'negative', 'neutral', 'negative', 'positive', 'negative']\n",
    "\n",
    "toxicity_labels = ['non-toxic', 'non-toxic', 'non-toxic', 'hate speech', 'non-toxic',\n",
    "                   'non-toxic', 'non-toxic', 'sexism', 'non-toxic', 'sexism']\n",
    "\n",
    "# Convert labels to one-hot encoding\n",
    "num_emotion_classes = len(set(emotion_labels))\n",
    "num_toxicity_classes = len(set(toxicity_labels))\n",
    "\n",
    "emotion_label_map = {label: i for i, label in enumerate(set(emotion_labels))}\n",
    "toxicity_label_map = {label: i for i, label in enumerate(set(toxicity_labels))}\n",
    "\n",
    "emotion_labels_one_hot = np.eye(num_emotion_classes)[[emotion_label_map[label] for label in emotion_labels]]\n",
    "toxicity_labels_one_hot = np.eye(num_toxicity_classes)[[toxicity_label_map[label] for label in toxicity_labels]]\n",
    "arr = [(chats[i], emotion_labels[i], toxicity_labels[i]) for i in range(len(chats))]\n",
    "df = pd.DataFrame(arr, columns=[\"Chats\", \"e_labels\",\"t_labels\"])\n",
    "df\n",
    "\n"
   ]
  },
  {
   "attachments": {},
   "cell_type": "markdown",
   "metadata": {},
   "source": [
    "## Preprocessing"
   ]
  },
  {
   "cell_type": "code",
   "execution_count": 11,
   "metadata": {},
   "outputs": [],
   "source": [
    "import re\n",
    "import nltk\n",
    "from nltk.corpus import stopwords\n",
    "from nltk.stem.porter import PorterStemmer\n",
    "from nltk import WordNetLemmatizer\n",
    "\n",
    "import advertools as adv"
   ]
  },
  {
   "cell_type": "code",
   "execution_count": 12,
   "metadata": {},
   "outputs": [],
   "source": [
    "def removing_stopwords(dataset, message:str):\n",
    "    corpus = []\n",
    "    for i in range(0,len(dataset)):\n",
    "        # Remove special characters\n",
    "        chat = re.sub('[^a-zA-Z#]', ' ', dataset[message][i])\n",
    "        chat = chat.lower()\n",
    "        chat = chat.split()\n",
    "        # Remove stop words\n",
    "        all_stopwords_eng = stopwords.words('english')\n",
    "        all_stopwords_eng.remove('not')\n",
    "        all_stopwords_tag = adv.stopwords['tagalog']\n",
    "        chat = [word for word in chat if not word in set(all_stopwords_eng) and word not in set(all_stopwords_tag)]\n",
    "        chat = ' '.join(chat)\n",
    "        corpus.append(chat)\n",
    "    return corpus"
   ]
  },
  {
   "cell_type": "code",
   "execution_count": 13,
   "metadata": {},
   "outputs": [],
   "source": [
    "def lemmatization(tokenized_chat):\n",
    "    lem = nltk.WordNetLemmatizer()\n",
    "    return tokenized_chat.apply(lambda x: [lem.lemmatize(word) for word in x])"
   ]
  },
  {
   "cell_type": "code",
   "execution_count": 24,
   "metadata": {},
   "outputs": [
    {
     "name": "stdout",
     "output_type": "stream",
     "text": [
      "Number of training samples: 8\n",
      "Number of evaluation samples: 2\n",
      "Training chats shape: (8, 100)\n",
      "Training emotion labels shape: (8, 3)\n",
      "Evaluation chats shape: (2, 100)\n",
      "Evaluation emotion labels shape: (2, 3)\n"
     ]
    }
   ],
   "source": [
    "# Tokenize chats using the BERT tokenizer\n",
    "# Tokenize chats using the BERT tokenizer\n",
    "df[\"clean_chats\"] = removing_stopwords(df, \"Chats\")\n",
    "d_chats = lemmatization(df[\"clean_chats\"].apply(lambda x: x.split(' ')))\n",
    "chats = d_chats.apply(lambda x: ' '.join(x)).tolist()\n",
    "\n",
    "tokenized_chats = [bert_tokenizer.encode(chat, add_special_tokens=True, max_length=MAX_SEQ_LEN, truncation=True) for chat in chats]\n",
    "# # Pad tokenized chats to the same length\n",
    "# padded_chats = (tokenized_chats, maxlen=MAX_SEQ_LEN, padding='post', truncating='post')\n",
    "padded_chats = pad_sequences(tokenized_chats, maxlen=MAX_SEQ_LEN, padding='pre', truncating='pre')\n",
    "\n",
    "# Split the dataset into training and evaluation sets\n",
    "train_size = int(0.8 * len(chats))\n",
    "\n",
    "train_chats = padded_chats[:train_size]\n",
    "train_emotion_labels = emotion_labels_one_hot[:train_size].astype('float32')\n",
    "train_toxicity_labels = toxicity_labels_one_hot[:train_size].astype('float32')\n",
    "\n",
    "eval_chats = padded_chats[train_size:]\n",
    "eval_emotion_labels = emotion_labels_one_hot[train_size:].astype('float32')\n",
    "eval_toxicity_labels = toxicity_labels_one_hot[train_size:].astype('float32')\n",
    "\n",
    "\n",
    "print(\"Number of training samples:\", len(train_chats))\n",
    "print(\"Number of evaluation samples:\", len(eval_chats))\n",
    "\n",
    "print(\"Training chats shape:\", train_chats.shape)\n",
    "print(\"Training emotion labels shape:\", train_emotion_labels.shape)\n",
    "\n",
    "print(\"Evaluation chats shape:\", eval_chats.shape)\n",
    "print(\"Evaluation emotion labels shape:\", eval_emotion_labels.shape)"
   ]
  },
  {
   "attachments": {},
   "cell_type": "markdown",
   "metadata": {},
   "source": [
    "### Training the model"
   ]
  },
  {
   "cell_type": "code",
   "execution_count": 25,
   "metadata": {},
   "outputs": [
    {
     "name": "stdout",
     "output_type": "stream",
     "text": [
      "Epoch 1/7\n"
     ]
    },
    {
     "ename": "TypeError",
     "evalue": "'NoneType' object is not callable",
     "output_type": "error",
     "traceback": [
      "\u001b[1;31m---------------------------------------------------------------------------\u001b[0m",
      "\u001b[1;31mTypeError\u001b[0m                                 Traceback (most recent call last)",
      "Cell \u001b[1;32mIn[25], line 1\u001b[0m\n\u001b[1;32m----> 1\u001b[0m fitted \u001b[39m=\u001b[39m model\u001b[39m.\u001b[39;49mfit(\n\u001b[0;32m      2\u001b[0m     train_chats,\n\u001b[0;32m      3\u001b[0m     {\n\u001b[0;32m      4\u001b[0m         \u001b[39m'\u001b[39;49m\u001b[39memotion_output\u001b[39;49m\u001b[39m'\u001b[39;49m: train_emotion_labels,\n\u001b[0;32m      5\u001b[0m         \u001b[39m'\u001b[39;49m\u001b[39mtoxicity_output\u001b[39;49m\u001b[39m'\u001b[39;49m: train_toxicity_labels\n\u001b[0;32m      6\u001b[0m     },\n\u001b[0;32m      7\u001b[0m     epochs\u001b[39m=\u001b[39;49m\u001b[39m7\u001b[39;49m,\n\u001b[0;32m      8\u001b[0m     batch_size\u001b[39m=\u001b[39;49m\u001b[39m2\u001b[39;49m,\n\u001b[0;32m      9\u001b[0m     validation_data\u001b[39m=\u001b[39;49m(eval_chats, {\u001b[39m'\u001b[39;49m\u001b[39memotion_output\u001b[39;49m\u001b[39m'\u001b[39;49m: eval_emotion_labels, \u001b[39m'\u001b[39;49m\u001b[39mtoxicity_output\u001b[39;49m\u001b[39m'\u001b[39;49m: eval_toxicity_labels}),\n\u001b[0;32m     10\u001b[0m )\n",
      "File \u001b[1;32me:\\Mini Projects\\Thesis\\report-system-back\\.venv\\Lib\\site-packages\\keras\\utils\\traceback_utils.py:70\u001b[0m, in \u001b[0;36mfilter_traceback.<locals>.error_handler\u001b[1;34m(*args, **kwargs)\u001b[0m\n\u001b[0;32m     67\u001b[0m     filtered_tb \u001b[39m=\u001b[39m _process_traceback_frames(e\u001b[39m.\u001b[39m__traceback__)\n\u001b[0;32m     68\u001b[0m     \u001b[39m# To get the full stack trace, call:\u001b[39;00m\n\u001b[0;32m     69\u001b[0m     \u001b[39m# `tf.debugging.disable_traceback_filtering()`\u001b[39;00m\n\u001b[1;32m---> 70\u001b[0m     \u001b[39mraise\u001b[39;00m e\u001b[39m.\u001b[39mwith_traceback(filtered_tb) \u001b[39mfrom\u001b[39;00m \u001b[39mNone\u001b[39;00m\n\u001b[0;32m     71\u001b[0m \u001b[39mfinally\u001b[39;00m:\n\u001b[0;32m     72\u001b[0m     \u001b[39mdel\u001b[39;00m filtered_tb\n",
      "File \u001b[1;32me:\\Mini Projects\\Thesis\\report-system-back\\.venv\\Lib\\site-packages\\tensorflow\\python\\eager\\polymorphic_function\\polymorphic_function.py:926\u001b[0m, in \u001b[0;36mFunction._call\u001b[1;34m(self, *args, **kwds)\u001b[0m\n\u001b[0;32m    923\u001b[0m   \u001b[39mself\u001b[39m\u001b[39m.\u001b[39m_lock\u001b[39m.\u001b[39mrelease()\n\u001b[0;32m    924\u001b[0m   \u001b[39m# In this case we have created variables on the first call, so we run the\u001b[39;00m\n\u001b[0;32m    925\u001b[0m   \u001b[39m# defunned version which is guaranteed to never create variables.\u001b[39;00m\n\u001b[1;32m--> 926\u001b[0m   \u001b[39mreturn\u001b[39;00m \u001b[39mself\u001b[39;49m\u001b[39m.\u001b[39;49m_no_variable_creation_fn(\u001b[39m*\u001b[39;49margs, \u001b[39m*\u001b[39;49m\u001b[39m*\u001b[39;49mkwds)  \u001b[39m# pylint: disable=not-callable\u001b[39;00m\n\u001b[0;32m    927\u001b[0m \u001b[39melif\u001b[39;00m \u001b[39mself\u001b[39m\u001b[39m.\u001b[39m_variable_creation_fn \u001b[39mis\u001b[39;00m \u001b[39mnot\u001b[39;00m \u001b[39mNone\u001b[39;00m:\n\u001b[0;32m    928\u001b[0m   \u001b[39m# Release the lock early so that multiple threads can perform the call\u001b[39;00m\n\u001b[0;32m    929\u001b[0m   \u001b[39m# in parallel.\u001b[39;00m\n\u001b[0;32m    930\u001b[0m   \u001b[39mself\u001b[39m\u001b[39m.\u001b[39m_lock\u001b[39m.\u001b[39mrelease()\n",
      "\u001b[1;31mTypeError\u001b[0m: 'NoneType' object is not callable"
     ]
    }
   ],
   "source": [
    "fitted = model.fit(\n",
    "    train_chats,\n",
    "    {\n",
    "        'emotion_output': train_emotion_labels,\n",
    "        'toxicity_output': train_toxicity_labels\n",
    "    },\n",
    "    epochs=7,\n",
    "    batch_size=2,\n",
    "    validation_data=(eval_chats, {'emotion_output': eval_emotion_labels, 'toxicity_output': eval_toxicity_labels}),\n",
    ")"
   ]
  },
  {
   "cell_type": "code",
   "execution_count": null,
   "metadata": {},
   "outputs": [],
   "source": []
  }
 ],
 "metadata": {
  "kernelspec": {
   "display_name": ".venv",
   "language": "python",
   "name": "python3"
  },
  "language_info": {
   "codemirror_mode": {
    "name": "ipython",
    "version": 3
   },
   "file_extension": ".py",
   "mimetype": "text/x-python",
   "name": "python",
   "nbconvert_exporter": "python",
   "pygments_lexer": "ipython3",
   "version": "3.11.2"
  },
  "orig_nbformat": 4
 },
 "nbformat": 4,
 "nbformat_minor": 2
}
